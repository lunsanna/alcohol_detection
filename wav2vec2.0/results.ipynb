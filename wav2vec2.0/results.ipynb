{
 "cells": [
  {
   "cell_type": "code",
   "execution_count": 15,
   "metadata": {},
   "outputs": [],
   "source": [
    "import pickle\n",
    "import pandas as pd\n",
    "import numpy as np\n",
    "from Speech import Speech\n",
    "import time \n",
    "\n",
    "import sys\n",
    "sys.path.append(\"../\")\n",
    "from classify import classifier"
   ]
  },
  {
   "cell_type": "markdown",
   "metadata": {},
   "source": [
    "## Flags"
   ]
  },
  {
   "cell_type": "code",
   "execution_count": 16,
   "metadata": {},
   "outputs": [],
   "source": [
    "feature_type = \"max\" # either mean or max \n",
    "feature_layer = \"middle\" # either output or middle"
   ]
  },
  {
   "cell_type": "markdown",
   "metadata": {},
   "source": [
    "## Config"
   ]
  },
  {
   "cell_type": "code",
   "execution_count": 17,
   "metadata": {},
   "outputs": [],
   "source": [
    "# features \n",
    "train_path_dict = {\n",
    "    \"mean\":{\n",
    "        \"output\": \"train_speech_features_layer_out_mean.pkl\",\n",
    "        \"middle\": \"train_speech_features_layer_12_mean.pkl\"\n",
    "    }, \n",
    "    \"max\": {\n",
    "        \"output\": \"train_speech_features_layer_out_max.pkl\",\n",
    "        \"middle\": \"train_speech_features_layer_12_max.pkl\"\n",
    "    }\n",
    "}\n",
    "\n",
    "test_path_dict = {\n",
    "    \"mean\": {\n",
    "        \"output\": \"test_speech_features_layer_out_mean.pkl\",\n",
    "        \"middle\": \"test_speech_features_layer_12_mean.pkl\"\n",
    "    }, \n",
    "    \"max\": {\n",
    "        \"output\": \"test_speech_features_layer_out_max.pkl\",\n",
    "        \"middle\": \"test_speech_features_layer_12_max.pkl\"\n",
    "    }\n",
    "}\n",
    "\n",
    "# feature paths\n",
    "train_feature_path = train_path_dict[feature_type][feature_layer]\n",
    "test_feature_path = test_path_dict[feature_type][feature_layer]\n",
    "\n",
    "# dfs \n",
    "csv_train = \"../train.csv\"\n",
    "csv_test = \"../test.csv\"\n",
    "\n",
    "df_train = pd.read_csv(csv_train)\n",
    "df_test = pd.read_csv(csv_test)\n",
    "df_train = df_train[df_train.alc_mapped!=\"Control\"]\n",
    "df_test = df_test[df_test.alc_mapped!=\"Control\"]\n",
    "\n",
    "# speech\n",
    "speech = Speech(df_train, path_prefix=\"../\")"
   ]
  },
  {
   "cell_type": "markdown",
   "metadata": {},
   "source": [
    "## Helper function "
   ]
  },
  {
   "cell_type": "code",
   "execution_count": 18,
   "metadata": {},
   "outputs": [],
   "source": [
    "def compute_metrics(y_true, y_pred):\n",
    "    \n",
    "    uar = recall_score(y_true, y_pred, average=\"macro\")\n",
    "    f1 = f1_score(y_true, y_pred)\n",
    "    macro_f1 = f1_score(y_true, y_pred, average=\"macro\")\n",
    "    accuracy = accuracy_score(y_true, y_pred)\n",
    "    \n",
    "    return {\"uar\": uar, \"f1\": f1, \"macro_f1\": macro_f1, \"accuracy\": accuracy}"
   ]
  },
  {
   "cell_type": "markdown",
   "metadata": {},
   "source": [
    "## Load wav2vec2 features"
   ]
  },
  {
   "cell_type": "code",
   "execution_count": 19,
   "metadata": {},
   "outputs": [],
   "source": [
    "# train\n",
    "with open(train_feature_path, \"rb\") as file:\n",
    "     train_feature_dict = pickle.load(file)\n",
    "\n",
    "# test        \n",
    "with open(test_feature_path, \"rb\") as file:\n",
    "    test_feature_dict = pickle.load(file)"
   ]
  },
  {
   "cell_type": "markdown",
   "metadata": {},
   "source": [
    "## Get X and y, X_test and y_test"
   ]
  },
  {
   "cell_type": "code",
   "execution_count": 20,
   "metadata": {},
   "outputs": [],
   "source": [
    "# Train set\n",
    "# get feature matrix X (N, 1024) and label vector y (N,)\n",
    "\n",
    "N = len(df_train)\n",
    "m = train_feature_dict[0].shape[0] # 1024\n",
    "\n",
    "X = np.zeros((N, m))\n",
    "y = np.zeros((N,))\n",
    "\n",
    "for i, (index, features) in enumerate(train_feature_dict.items()):\n",
    "    X[i, :] = features\n",
    "    text_label = df_train.loc[index].alc_mapped # Intoxicated or Sober \n",
    "    y[i] = speech.get_label( text_label ) # 1 for Intoxicated, -1 for Sober "
   ]
  },
  {
   "cell_type": "code",
   "execution_count": 21,
   "metadata": {},
   "outputs": [],
   "source": [
    "# Test set\n",
    "# X_test (N_test, 1024), y_test (N_test)\n",
    "\n",
    "N_test = len(df_test)\n",
    "\n",
    "X_test = np.zeros((N_test, m))\n",
    "y_test = np.zeros((N_test,))\n",
    "\n",
    "for i, (index, features) in enumerate(test_feature_dict.items()):\n",
    "    X_test[i,:] = features\n",
    "    y_test[i] = speech.get_label( df_test.loc[index].alc_mapped )"
   ]
  },
  {
   "cell_type": "markdown",
   "metadata": {},
   "source": [
    "## Train SVM and evaluate"
   ]
  },
  {
   "cell_type": "code",
   "execution_count": 22,
   "metadata": {},
   "outputs": [
    {
     "name": "stdout",
     "output_type": "stream",
     "text": [
      "Starting training SVM.\n",
      "Training done. Time taken: 40.18 min.\n",
      "Evaluation\n",
      "{'uar': 0.6954545454545454, 'f1': 0.5924781040700671, 'macro_f1': 0.6973393271038006, 'accuracy': 0.7336700336700337}\n"
     ]
    },
    {
     "data": {
      "text/html": [
       "<style>#sk-container-id-2 {color: black;}#sk-container-id-2 pre{padding: 0;}#sk-container-id-2 div.sk-toggleable {background-color: white;}#sk-container-id-2 label.sk-toggleable__label {cursor: pointer;display: block;width: 100%;margin-bottom: 0;padding: 0.3em;box-sizing: border-box;text-align: center;}#sk-container-id-2 label.sk-toggleable__label-arrow:before {content: \"▸\";float: left;margin-right: 0.25em;color: #696969;}#sk-container-id-2 label.sk-toggleable__label-arrow:hover:before {color: black;}#sk-container-id-2 div.sk-estimator:hover label.sk-toggleable__label-arrow:before {color: black;}#sk-container-id-2 div.sk-toggleable__content {max-height: 0;max-width: 0;overflow: hidden;text-align: left;background-color: #f0f8ff;}#sk-container-id-2 div.sk-toggleable__content pre {margin: 0.2em;color: black;border-radius: 0.25em;background-color: #f0f8ff;}#sk-container-id-2 input.sk-toggleable__control:checked~div.sk-toggleable__content {max-height: 200px;max-width: 100%;overflow: auto;}#sk-container-id-2 input.sk-toggleable__control:checked~label.sk-toggleable__label-arrow:before {content: \"▾\";}#sk-container-id-2 div.sk-estimator input.sk-toggleable__control:checked~label.sk-toggleable__label {background-color: #d4ebff;}#sk-container-id-2 div.sk-label input.sk-toggleable__control:checked~label.sk-toggleable__label {background-color: #d4ebff;}#sk-container-id-2 input.sk-hidden--visually {border: 0;clip: rect(1px 1px 1px 1px);clip: rect(1px, 1px, 1px, 1px);height: 1px;margin: -1px;overflow: hidden;padding: 0;position: absolute;width: 1px;}#sk-container-id-2 div.sk-estimator {font-family: monospace;background-color: #f0f8ff;border: 1px dotted black;border-radius: 0.25em;box-sizing: border-box;margin-bottom: 0.5em;}#sk-container-id-2 div.sk-estimator:hover {background-color: #d4ebff;}#sk-container-id-2 div.sk-parallel-item::after {content: \"\";width: 100%;border-bottom: 1px solid gray;flex-grow: 1;}#sk-container-id-2 div.sk-label:hover label.sk-toggleable__label {background-color: #d4ebff;}#sk-container-id-2 div.sk-serial::before {content: \"\";position: absolute;border-left: 1px solid gray;box-sizing: border-box;top: 0;bottom: 0;left: 50%;z-index: 0;}#sk-container-id-2 div.sk-serial {display: flex;flex-direction: column;align-items: center;background-color: white;padding-right: 0.2em;padding-left: 0.2em;position: relative;}#sk-container-id-2 div.sk-item {position: relative;z-index: 1;}#sk-container-id-2 div.sk-parallel {display: flex;align-items: stretch;justify-content: center;background-color: white;position: relative;}#sk-container-id-2 div.sk-item::before, #sk-container-id-2 div.sk-parallel-item::before {content: \"\";position: absolute;border-left: 1px solid gray;box-sizing: border-box;top: 0;bottom: 0;left: 50%;z-index: -1;}#sk-container-id-2 div.sk-parallel-item {display: flex;flex-direction: column;z-index: 1;position: relative;background-color: white;}#sk-container-id-2 div.sk-parallel-item:first-child::after {align-self: flex-end;width: 50%;}#sk-container-id-2 div.sk-parallel-item:last-child::after {align-self: flex-start;width: 50%;}#sk-container-id-2 div.sk-parallel-item:only-child::after {width: 0;}#sk-container-id-2 div.sk-dashed-wrapped {border: 1px dashed gray;margin: 0 0.4em 0.5em 0.4em;box-sizing: border-box;padding-bottom: 0.4em;background-color: white;}#sk-container-id-2 div.sk-label label {font-family: monospace;font-weight: bold;display: inline-block;line-height: 1.2em;}#sk-container-id-2 div.sk-label-container {text-align: center;}#sk-container-id-2 div.sk-container {/* jupyter's `normalize.less` sets `[hidden] { display: none; }` but bootstrap.min.css set `[hidden] { display: none !important; }` so we also need the `!important` here to be able to override the default hidden behavior on the sphinx rendered scikit-learn.org. See: https://github.com/scikit-learn/scikit-learn/issues/21755 */display: inline-block !important;position: relative;}#sk-container-id-2 div.sk-text-repr-fallback {display: none;}</style><div id=\"sk-container-id-2\" class=\"sk-top-container\"><div class=\"sk-text-repr-fallback\"><pre>Pipeline(steps=[(&#x27;standardscaler&#x27;, StandardScaler()),\n",
       "                (&#x27;svc&#x27;, SVC(kernel=&#x27;linear&#x27;, random_state=2023))])</pre><b>In a Jupyter environment, please rerun this cell to show the HTML representation or trust the notebook. <br />On GitHub, the HTML representation is unable to render, please try loading this page with nbviewer.org.</b></div><div class=\"sk-container\" hidden><div class=\"sk-item sk-dashed-wrapped\"><div class=\"sk-label-container\"><div class=\"sk-label sk-toggleable\"><input class=\"sk-toggleable__control sk-hidden--visually\" id=\"sk-estimator-id-4\" type=\"checkbox\" ><label for=\"sk-estimator-id-4\" class=\"sk-toggleable__label sk-toggleable__label-arrow\">Pipeline</label><div class=\"sk-toggleable__content\"><pre>Pipeline(steps=[(&#x27;standardscaler&#x27;, StandardScaler()),\n",
       "                (&#x27;svc&#x27;, SVC(kernel=&#x27;linear&#x27;, random_state=2023))])</pre></div></div></div><div class=\"sk-serial\"><div class=\"sk-item\"><div class=\"sk-estimator sk-toggleable\"><input class=\"sk-toggleable__control sk-hidden--visually\" id=\"sk-estimator-id-5\" type=\"checkbox\" ><label for=\"sk-estimator-id-5\" class=\"sk-toggleable__label sk-toggleable__label-arrow\">StandardScaler</label><div class=\"sk-toggleable__content\"><pre>StandardScaler()</pre></div></div></div><div class=\"sk-item\"><div class=\"sk-estimator sk-toggleable\"><input class=\"sk-toggleable__control sk-hidden--visually\" id=\"sk-estimator-id-6\" type=\"checkbox\" ><label for=\"sk-estimator-id-6\" class=\"sk-toggleable__label sk-toggleable__label-arrow\">SVC</label><div class=\"sk-toggleable__content\"><pre>SVC(kernel=&#x27;linear&#x27;, random_state=2023)</pre></div></div></div></div></div></div></div>"
      ],
      "text/plain": [
       "Pipeline(steps=[('standardscaler', StandardScaler()),\n",
       "                ('svc', SVC(kernel='linear', random_state=2023))])"
      ]
     },
     "execution_count": 22,
     "metadata": {},
     "output_type": "execute_result"
    }
   ],
   "source": [
    "classifier(X, y, X_test, y_test)"
   ]
  },
  {
   "cell_type": "code",
   "execution_count": null,
   "metadata": {},
   "outputs": [],
   "source": []
  },
  {
   "cell_type": "markdown",
   "metadata": {},
   "source": [
    "1. Output layer mean features \n",
    "```\n",
    "{'uar': 0.720959595959596,\n",
    " 'f1': 0.628428927680798,\n",
    " 'macro_f1': 0.7195511855684803,\n",
    " 'accuracy': 0.7491582491582491}\n",
    "```\n",
    "\n",
    "2. Output layer max features \n",
    "```\n",
    "{'uar': 0.6515151515151515, \n",
    "'f1': 0.5255157437567861, \n",
    "'macro_f1': 0.6561204877885931, \n",
    "'accuracy': 0.7057239057239058}\n",
    "```\n",
    "\n",
    "3. Middle layer mean features \n",
    "```\n",
    "{'uar': 0.7631313131313131,\n",
    " 'f1': 0.6835689907362262,\n",
    " 'macro_f1': 0.758344022238774,\n",
    " 'accuracy': 0.7814814814814814}\n",
    "```\n",
    "\n",
    "4. Middle layer max features \n",
    "```\n",
    "{'uar': 0.6954545454545454, \n",
    "'f1': 0.5924781040700671, \n",
    "'macro_f1': 0.6973393271038006, \n",
    "'accuracy': 0.7336700336700337}\n",
    "```"
   ]
  },
  {
   "cell_type": "code",
   "execution_count": null,
   "metadata": {},
   "outputs": [],
   "source": []
  }
 ],
 "metadata": {
  "kernelspec": {
   "display_name": "Python (module anaconda)",
   "language": "python",
   "name": "python3"
  },
  "language_info": {
   "codemirror_mode": {
    "name": "ipython",
    "version": 3
   },
   "file_extension": ".py",
   "mimetype": "text/x-python",
   "name": "python",
   "nbconvert_exporter": "python",
   "pygments_lexer": "ipython3",
   "version": "3.10.10"
  }
 },
 "nbformat": 4,
 "nbformat_minor": 4
}
