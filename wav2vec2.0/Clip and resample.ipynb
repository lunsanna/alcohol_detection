{
 "cells": [
  {
   "cell_type": "code",
   "execution_count": 39,
   "metadata": {},
   "outputs": [],
   "source": [
    "import torchaudio\n",
    "import pandas as pd\n",
    "from os.path import basename"
   ]
  },
  {
   "cell_type": "code",
   "execution_count": 12,
   "metadata": {},
   "outputs": [],
   "source": [
    "target_duration_in_seconds = 10\n",
    "target_sr = 16000"
   ]
  },
  {
   "cell_type": "code",
   "execution_count": 2,
   "metadata": {},
   "outputs": [],
   "source": [
    "df_train = pd.read_csv(\"../train.csv\")\n",
    "df_test = pd.read_csv(\"../test.csv\")"
   ]
  },
  {
   "cell_type": "code",
   "execution_count": 48,
   "metadata": {},
   "outputs": [],
   "source": [
    "def clip_and_resample(df: pd.DataFrame, \n",
    "                      print_every: int= 100):\n",
    "    \n",
    "    for i, path in enumerate(df.file_path):\n",
    "        path = \"../\" + path\n",
    "        speech, sr = torchaudio.load(path)\n",
    "\n",
    "        # clip speech target duration \n",
    "        max_num_sample = 10 * sr\n",
    "        speech = speech[:,:max_num_sample]\n",
    "\n",
    "        # resample \n",
    "        resampler = torchaudio.transforms.Resample(sr, target_sr)\n",
    "        speech = resampler(speech)\n",
    "\n",
    "        # save file \n",
    "        new_path = \"../resampled_audio/\"+basename(path)\n",
    "        torchaudio.save(new_path, speech, sample_rate=target_sr)\n",
    "\n",
    "        if i % print_every == 0:\n",
    "            print(f\"{i}/{len(df)} done.\")"
   ]
  },
  {
   "cell_type": "code",
   "execution_count": null,
   "metadata": {},
   "outputs": [],
   "source": [
    "clip_and_resample(df_train)"
   ]
  },
  {
   "cell_type": "code",
   "execution_count": 49,
   "metadata": {},
   "outputs": [
    {
     "name": "stdout",
     "output_type": "stream",
     "text": [
      "0/3150 done.\n",
      "100/3150 done.\n",
      "200/3150 done.\n",
      "300/3150 done.\n",
      "400/3150 done.\n",
      "500/3150 done.\n",
      "600/3150 done.\n",
      "700/3150 done.\n",
      "800/3150 done.\n",
      "900/3150 done.\n",
      "1000/3150 done.\n",
      "1100/3150 done.\n",
      "1200/3150 done.\n",
      "1300/3150 done.\n",
      "1400/3150 done.\n",
      "1500/3150 done.\n",
      "1600/3150 done.\n",
      "1700/3150 done.\n",
      "1800/3150 done.\n",
      "1900/3150 done.\n",
      "2000/3150 done.\n",
      "2100/3150 done.\n",
      "2200/3150 done.\n",
      "2300/3150 done.\n",
      "2400/3150 done.\n",
      "2500/3150 done.\n",
      "2600/3150 done.\n",
      "2700/3150 done.\n",
      "2800/3150 done.\n",
      "2900/3150 done.\n",
      "3000/3150 done.\n",
      "3100/3150 done.\n"
     ]
    }
   ],
   "source": [
    "clip_and_resample(df_test)"
   ]
  },
  {
   "cell_type": "code",
   "execution_count": null,
   "metadata": {},
   "outputs": [],
   "source": []
  },
  {
   "cell_type": "code",
   "execution_count": null,
   "metadata": {},
   "outputs": [],
   "source": []
  },
  {
   "cell_type": "code",
   "execution_count": null,
   "metadata": {},
   "outputs": [],
   "source": []
  }
 ],
 "metadata": {
  "kernelspec": {
   "display_name": "w2v2",
   "language": "python",
   "name": "internal_name"
  },
  "language_info": {
   "codemirror_mode": {
    "name": "ipython",
    "version": 3
   },
   "file_extension": ".py",
   "mimetype": "text/x-python",
   "name": "python",
   "nbconvert_exporter": "python",
   "pygments_lexer": "ipython3",
   "version": "3.11.3"
  }
 },
 "nbformat": 4,
 "nbformat_minor": 4
}
