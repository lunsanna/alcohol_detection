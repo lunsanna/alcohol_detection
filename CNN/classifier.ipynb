{
 "cells": [
  {
   "cell_type": "code",
   "execution_count": 1,
   "metadata": {},
   "outputs": [],
   "source": [
    "import numpy as np\n",
    "import pandas as pd\n",
    "\n",
    "import pandas as pd\n",
    "from sklearn import svm\n",
    "from sklearn.metrics import accuracy_score\n",
    "from sklearn.preprocessing import LabelEncoder\n"
   ]
  },
  {
   "cell_type": "code",
   "execution_count": 8,
   "metadata": {},
   "outputs": [
    {
     "ename": "FileNotFoundError",
     "evalue": "[Errno 2] No such file or directory: 'train.csv'",
     "output_type": "error",
     "traceback": [
      "\u001B[0;31m---------------------------------------------------------------------------\u001B[0m",
      "\u001B[0;31mFileNotFoundError\u001B[0m                         Traceback (most recent call last)",
      "\u001B[1;32m/Users/vimetoivonen/code/school/speech_recognition/project/CNN/classifier.ipynb Cell 2\u001B[0m line \u001B[0;36m1\n\u001B[0;32m----> <a href='vscode-notebook-cell:/Users/vimetoivonen/code/school/speech_recognition/project/CNN/classifier.ipynb#W1sZmlsZQ%3D%3D?line=0'>1</a>\u001B[0m df \u001B[39m=\u001B[39m pd\u001B[39m.\u001B[39;49mread_csv(\u001B[39m'\u001B[39;49m\u001B[39mtrain.csv\u001B[39;49m\u001B[39m'\u001B[39;49m)\n\u001B[1;32m      <a href='vscode-notebook-cell:/Users/vimetoivonen/code/school/speech_recognition/project/CNN/classifier.ipynb#W1sZmlsZQ%3D%3D?line=2'>3</a>\u001B[0m \u001B[39m# get all the unique values of the column 'alc'\u001B[39;00m\n\u001B[1;32m      <a href='vscode-notebook-cell:/Users/vimetoivonen/code/school/speech_recognition/project/CNN/classifier.ipynb#W1sZmlsZQ%3D%3D?line=3'>4</a>\u001B[0m \n\u001B[1;32m      <a href='vscode-notebook-cell:/Users/vimetoivonen/code/school/speech_recognition/project/CNN/classifier.ipynb#W1sZmlsZQ%3D%3D?line=4'>5</a>\u001B[0m \u001B[39m# calculate the percentage of rows with 'alc' column value as 'a'\u001B[39;00m\n\u001B[1;32m      <a href='vscode-notebook-cell:/Users/vimetoivonen/code/school/speech_recognition/project/CNN/classifier.ipynb#W1sZmlsZQ%3D%3D?line=5'>6</a>\u001B[0m a_rows \u001B[39m=\u001B[39m df[df[\u001B[39m'\u001B[39m\u001B[39malc\u001B[39m\u001B[39m'\u001B[39m] \u001B[39m==\u001B[39m \u001B[39m'\u001B[39m\u001B[39ma\u001B[39m\u001B[39m'\u001B[39m]\n",
      "File \u001B[0;32m~/Documents/school/venv/lib/python3.11/site-packages/pandas/io/parsers/readers.py:948\u001B[0m, in \u001B[0;36mread_csv\u001B[0;34m(filepath_or_buffer, sep, delimiter, header, names, index_col, usecols, dtype, engine, converters, true_values, false_values, skipinitialspace, skiprows, skipfooter, nrows, na_values, keep_default_na, na_filter, verbose, skip_blank_lines, parse_dates, infer_datetime_format, keep_date_col, date_parser, date_format, dayfirst, cache_dates, iterator, chunksize, compression, thousands, decimal, lineterminator, quotechar, quoting, doublequote, escapechar, comment, encoding, encoding_errors, dialect, on_bad_lines, delim_whitespace, low_memory, memory_map, float_precision, storage_options, dtype_backend)\u001B[0m\n\u001B[1;32m    935\u001B[0m kwds_defaults \u001B[39m=\u001B[39m _refine_defaults_read(\n\u001B[1;32m    936\u001B[0m     dialect,\n\u001B[1;32m    937\u001B[0m     delimiter,\n\u001B[0;32m   (...)\u001B[0m\n\u001B[1;32m    944\u001B[0m     dtype_backend\u001B[39m=\u001B[39mdtype_backend,\n\u001B[1;32m    945\u001B[0m )\n\u001B[1;32m    946\u001B[0m kwds\u001B[39m.\u001B[39mupdate(kwds_defaults)\n\u001B[0;32m--> 948\u001B[0m \u001B[39mreturn\u001B[39;00m _read(filepath_or_buffer, kwds)\n",
      "File \u001B[0;32m~/Documents/school/venv/lib/python3.11/site-packages/pandas/io/parsers/readers.py:611\u001B[0m, in \u001B[0;36m_read\u001B[0;34m(filepath_or_buffer, kwds)\u001B[0m\n\u001B[1;32m    608\u001B[0m _validate_names(kwds\u001B[39m.\u001B[39mget(\u001B[39m\"\u001B[39m\u001B[39mnames\u001B[39m\u001B[39m\"\u001B[39m, \u001B[39mNone\u001B[39;00m))\n\u001B[1;32m    610\u001B[0m \u001B[39m# Create the parser.\u001B[39;00m\n\u001B[0;32m--> 611\u001B[0m parser \u001B[39m=\u001B[39m TextFileReader(filepath_or_buffer, \u001B[39m*\u001B[39;49m\u001B[39m*\u001B[39;49mkwds)\n\u001B[1;32m    613\u001B[0m \u001B[39mif\u001B[39;00m chunksize \u001B[39mor\u001B[39;00m iterator:\n\u001B[1;32m    614\u001B[0m     \u001B[39mreturn\u001B[39;00m parser\n",
      "File \u001B[0;32m~/Documents/school/venv/lib/python3.11/site-packages/pandas/io/parsers/readers.py:1448\u001B[0m, in \u001B[0;36mTextFileReader.__init__\u001B[0;34m(self, f, engine, **kwds)\u001B[0m\n\u001B[1;32m   1445\u001B[0m     \u001B[39mself\u001B[39m\u001B[39m.\u001B[39moptions[\u001B[39m\"\u001B[39m\u001B[39mhas_index_names\u001B[39m\u001B[39m\"\u001B[39m] \u001B[39m=\u001B[39m kwds[\u001B[39m\"\u001B[39m\u001B[39mhas_index_names\u001B[39m\u001B[39m\"\u001B[39m]\n\u001B[1;32m   1447\u001B[0m \u001B[39mself\u001B[39m\u001B[39m.\u001B[39mhandles: IOHandles \u001B[39m|\u001B[39m \u001B[39mNone\u001B[39;00m \u001B[39m=\u001B[39m \u001B[39mNone\u001B[39;00m\n\u001B[0;32m-> 1448\u001B[0m \u001B[39mself\u001B[39m\u001B[39m.\u001B[39m_engine \u001B[39m=\u001B[39m \u001B[39mself\u001B[39;49m\u001B[39m.\u001B[39;49m_make_engine(f, \u001B[39mself\u001B[39;49m\u001B[39m.\u001B[39;49mengine)\n",
      "File \u001B[0;32m~/Documents/school/venv/lib/python3.11/site-packages/pandas/io/parsers/readers.py:1705\u001B[0m, in \u001B[0;36mTextFileReader._make_engine\u001B[0;34m(self, f, engine)\u001B[0m\n\u001B[1;32m   1703\u001B[0m     \u001B[39mif\u001B[39;00m \u001B[39m\"\u001B[39m\u001B[39mb\u001B[39m\u001B[39m\"\u001B[39m \u001B[39mnot\u001B[39;00m \u001B[39min\u001B[39;00m mode:\n\u001B[1;32m   1704\u001B[0m         mode \u001B[39m+\u001B[39m\u001B[39m=\u001B[39m \u001B[39m\"\u001B[39m\u001B[39mb\u001B[39m\u001B[39m\"\u001B[39m\n\u001B[0;32m-> 1705\u001B[0m \u001B[39mself\u001B[39m\u001B[39m.\u001B[39mhandles \u001B[39m=\u001B[39m get_handle(\n\u001B[1;32m   1706\u001B[0m     f,\n\u001B[1;32m   1707\u001B[0m     mode,\n\u001B[1;32m   1708\u001B[0m     encoding\u001B[39m=\u001B[39;49m\u001B[39mself\u001B[39;49m\u001B[39m.\u001B[39;49moptions\u001B[39m.\u001B[39;49mget(\u001B[39m\"\u001B[39;49m\u001B[39mencoding\u001B[39;49m\u001B[39m\"\u001B[39;49m, \u001B[39mNone\u001B[39;49;00m),\n\u001B[1;32m   1709\u001B[0m     compression\u001B[39m=\u001B[39;49m\u001B[39mself\u001B[39;49m\u001B[39m.\u001B[39;49moptions\u001B[39m.\u001B[39;49mget(\u001B[39m\"\u001B[39;49m\u001B[39mcompression\u001B[39;49m\u001B[39m\"\u001B[39;49m, \u001B[39mNone\u001B[39;49;00m),\n\u001B[1;32m   1710\u001B[0m     memory_map\u001B[39m=\u001B[39;49m\u001B[39mself\u001B[39;49m\u001B[39m.\u001B[39;49moptions\u001B[39m.\u001B[39;49mget(\u001B[39m\"\u001B[39;49m\u001B[39mmemory_map\u001B[39;49m\u001B[39m\"\u001B[39;49m, \u001B[39mFalse\u001B[39;49;00m),\n\u001B[1;32m   1711\u001B[0m     is_text\u001B[39m=\u001B[39;49mis_text,\n\u001B[1;32m   1712\u001B[0m     errors\u001B[39m=\u001B[39;49m\u001B[39mself\u001B[39;49m\u001B[39m.\u001B[39;49moptions\u001B[39m.\u001B[39;49mget(\u001B[39m\"\u001B[39;49m\u001B[39mencoding_errors\u001B[39;49m\u001B[39m\"\u001B[39;49m, \u001B[39m\"\u001B[39;49m\u001B[39mstrict\u001B[39;49m\u001B[39m\"\u001B[39;49m),\n\u001B[1;32m   1713\u001B[0m     storage_options\u001B[39m=\u001B[39;49m\u001B[39mself\u001B[39;49m\u001B[39m.\u001B[39;49moptions\u001B[39m.\u001B[39;49mget(\u001B[39m\"\u001B[39;49m\u001B[39mstorage_options\u001B[39;49m\u001B[39m\"\u001B[39;49m, \u001B[39mNone\u001B[39;49;00m),\n\u001B[1;32m   1714\u001B[0m )\n\u001B[1;32m   1715\u001B[0m \u001B[39massert\u001B[39;00m \u001B[39mself\u001B[39m\u001B[39m.\u001B[39mhandles \u001B[39mis\u001B[39;00m \u001B[39mnot\u001B[39;00m \u001B[39mNone\u001B[39;00m\n\u001B[1;32m   1716\u001B[0m f \u001B[39m=\u001B[39m \u001B[39mself\u001B[39m\u001B[39m.\u001B[39mhandles\u001B[39m.\u001B[39mhandle\n",
      "File \u001B[0;32m~/Documents/school/venv/lib/python3.11/site-packages/pandas/io/common.py:863\u001B[0m, in \u001B[0;36mget_handle\u001B[0;34m(path_or_buf, mode, encoding, compression, memory_map, is_text, errors, storage_options)\u001B[0m\n\u001B[1;32m    858\u001B[0m \u001B[39melif\u001B[39;00m \u001B[39misinstance\u001B[39m(handle, \u001B[39mstr\u001B[39m):\n\u001B[1;32m    859\u001B[0m     \u001B[39m# Check whether the filename is to be opened in binary mode.\u001B[39;00m\n\u001B[1;32m    860\u001B[0m     \u001B[39m# Binary mode does not support 'encoding' and 'newline'.\u001B[39;00m\n\u001B[1;32m    861\u001B[0m     \u001B[39mif\u001B[39;00m ioargs\u001B[39m.\u001B[39mencoding \u001B[39mand\u001B[39;00m \u001B[39m\"\u001B[39m\u001B[39mb\u001B[39m\u001B[39m\"\u001B[39m \u001B[39mnot\u001B[39;00m \u001B[39min\u001B[39;00m ioargs\u001B[39m.\u001B[39mmode:\n\u001B[1;32m    862\u001B[0m         \u001B[39m# Encoding\u001B[39;00m\n\u001B[0;32m--> 863\u001B[0m         handle \u001B[39m=\u001B[39m \u001B[39mopen\u001B[39m(\n\u001B[1;32m    864\u001B[0m             handle,\n\u001B[1;32m    865\u001B[0m             ioargs\u001B[39m.\u001B[39mmode,\n\u001B[1;32m    866\u001B[0m             encoding\u001B[39m=\u001B[39mioargs\u001B[39m.\u001B[39mencoding,\n\u001B[1;32m    867\u001B[0m             errors\u001B[39m=\u001B[39merrors,\n\u001B[1;32m    868\u001B[0m             newline\u001B[39m=\u001B[39m\u001B[39m\"\u001B[39m\u001B[39m\"\u001B[39m,\n\u001B[1;32m    869\u001B[0m         )\n\u001B[1;32m    870\u001B[0m     \u001B[39melse\u001B[39;00m:\n\u001B[1;32m    871\u001B[0m         \u001B[39m# Binary mode\u001B[39;00m\n\u001B[1;32m    872\u001B[0m         handle \u001B[39m=\u001B[39m \u001B[39mopen\u001B[39m(handle, ioargs\u001B[39m.\u001B[39mmode)\n",
      "\u001B[0;31mFileNotFoundError\u001B[0m: [Errno 2] No such file or directory: 'train.csv'"
     ]
    }
   ],
   "source": [
    "df = pd.read_csv('../train.csv')\n",
    "\n",
    "# get all the unique values of the column 'alc'\n",
    "\n",
    "# calculate the percentage of rows with 'alc' column value as 'a'\n",
    "a_rows = df[df['alc'] == 'a']\n",
    "na_rows = df[df['alc'] == 'na']\n",
    "\n",
    "print(\"percentage of na rows: \", len(na_rows)/(len(a_rows)+len(na_rows)))\n"
   ]
  },
  {
   "cell_type": "code",
   "execution_count": 7,
   "metadata": {},
   "outputs": [
    {
     "name": "stdout",
     "output_type": "stream",
     "text": [
      "(11610, 28)\n",
      "(2970, 27)\n",
      "(11610, 128) (11610,)\n",
      "Training Accuracy: 0.7072351421188631\n",
      "Testing Accuracy: 0.6599326599326599\n"
     ]
    }
   ],
   "source": [
    "# Load CSV and extract bottleneck features and labels\n",
    "def load_features_and_labels(csv_path):\n",
    "    df = pd.read_csv(csv_path)\n",
    "\n",
    "    # drop the rows with 'cna' in the alc column\n",
    "    df = df[df['alc'] != 'cna']\n",
    "\n",
    "    print(df.shape)\n",
    "\n",
    "    features = [np.load(fp) for fp in df['bottleneck_filepath']]\n",
    "    labels = df['alc'].map({'na': 0, 'a': 1}).values\n",
    "    return np.array(features), labels\n",
    "\n",
    "# Load the data\n",
    "train_features, train_labels = load_features_and_labels('../train2.csv')\n",
    "test_features, test_labels = load_features_and_labels('../test2.csv')\n",
    "\n",
    "print(train_features.shape, train_labels.shape)\n",
    "\n",
    "# Create and train the SVM\n",
    "clf = svm.SVC()\n",
    "clf.fit(train_features, train_labels)\n",
    "\n",
    "# Predict on the training set\n",
    "train_predictions = clf.predict(train_features)\n",
    "train_accuracy = accuracy_score(train_labels, train_predictions)\n",
    "\n",
    "# Predict on the testing set\n",
    "test_predictions = clf.predict(test_features)\n",
    "test_accuracy = accuracy_score(test_labels, test_predictions)\n",
    "\n",
    "# Print the accuracies\n",
    "print(f'Training Accuracy: {train_accuracy}')\n",
    "print(f'Testing Accuracy: {test_accuracy}')\n"
   ]
  },
  {
   "cell_type": "code",
   "execution_count": null,
   "metadata": {},
   "outputs": [],
   "source": []
  }
 ],
 "metadata": {
  "kernelspec": {
   "display_name": "venv",
   "language": "python",
   "name": "python3"
  },
  "language_info": {
   "codemirror_mode": {
    "name": "ipython",
    "version": 3
   },
   "file_extension": ".py",
   "mimetype": "text/x-python",
   "name": "python",
   "nbconvert_exporter": "python",
   "pygments_lexer": "ipython3",
   "version": "3.11.5"
  }
 },
 "nbformat": 4,
 "nbformat_minor": 2
}
