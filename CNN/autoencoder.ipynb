{
 "cells": [
  {
   "cell_type": "code",
   "execution_count": 1,
   "metadata": {},
   "outputs": [],
   "source": [
    "import torch\n",
    "from torch.utils.data import Dataset, DataLoader\n",
    "import torch.nn as nn\n",
    "import torch.optim as optim\n",
    "import pandas as pd\n",
    "import numpy as np\n",
    "import matplotlib.pyplot as plt\n",
    "import os\n"
   ]
  },
  {
   "cell_type": "code",
   "execution_count": 2,
   "metadata": {},
   "outputs": [],
   "source": [
    "device = torch.device('mps')\n"
   ]
  },
  {
   "cell_type": "code",
   "execution_count": 3,
   "metadata": {},
   "outputs": [],
   "source": [
    "class SpectrogramDataset(Dataset):\n",
    "    def __init__(self, csv_file, target_length=10, sample_rate=80):\n",
    "        \"\"\"\n",
    "        Args:\n",
    "            csv_file (string): Path to the csv file with annotations and file paths.\n",
    "            target_length (int): Desired length of the spectrograms in seconds.\n",
    "            sample_rate (int): Sample rate of the spectrograms.\n",
    "        \"\"\"\n",
    "        self.annotations = pd.read_csv(csv_file)\n",
    "        self.target_length = target_length\n",
    "        self.sample_rate = sample_rate\n",
    "\n",
    "    def __len__(self):\n",
    "        return len(self.annotations)\n",
    "\n",
    "    def __getitem__(self, idx):\n",
    "        spectrogram_path = self.annotations.iloc[idx]['spectrogram_filepath']\n",
    "        spectrogram = np.load(f\"../{spectrogram_path}\")\n",
    "\n",
    "        # Calculate the number of samples for target length\n",
    "        num_samples = self.target_length * self.sample_rate\n",
    "\n",
    "        # Pad or cut the spectrogram\n",
    "        if spectrogram.shape[2] > num_samples:\n",
    "            # Cut the spectrogram\n",
    "            spectrogram = spectrogram[:, :, :num_samples]\n",
    "        elif spectrogram.shape[2] < num_samples:\n",
    "            # Pad the spectrogram with zeros\n",
    "            padding_size = num_samples - spectrogram.shape[2]\n",
    "            spectrogram = np.pad(spectrogram, ((0, 0), (0, 0), (0, padding_size)), mode='constant')\n",
    "\n",
    "        spectrogram_tensor = torch.from_numpy(spectrogram).type(torch.float32)\n",
    "        return spectrogram_tensor\n"
   ]
  },
  {
   "cell_type": "code",
   "execution_count": 4,
   "metadata": {},
   "outputs": [
    {
     "name": "stdout",
     "output_type": "stream",
     "text": [
      "376\n",
      "99\n",
      "torch.Size([32, 1, 201, 800])\n"
     ]
    }
   ],
   "source": [
    "def create_data_loader(csv_file, batch_size, target_length=10, sample_rate=80):\n",
    "    dataset = SpectrogramDataset(csv_file=csv_file, target_length=target_length, sample_rate=sample_rate)\n",
    "    return DataLoader(dataset, batch_size=batch_size, shuffle=True)\n",
    "\n",
    "# Example usage\n",
    "train_data_loader = create_data_loader('../train.csv', batch_size=32)\n",
    "test_data_loader = create_data_loader('../test.csv', batch_size=32)\n",
    "\n",
    "print(len(train_data_loader))\n",
    "print(len(test_data_loader))\n",
    "\n",
    "print(next(iter(train_data_loader)).shape)\n"
   ]
  },
  {
   "cell_type": "code",
   "execution_count": 7,
   "metadata": {},
   "outputs": [],
   "source": [
    "class Encoder(nn.Module):\n",
    "    def __init__(self):\n",
    "        super(Encoder, self).__init__()\n",
    "        # Define the layers\n",
    "        self.conv1 = nn.Conv2d(1, 16, kernel_size=3, stride=1, padding=1)  # Output: 16 x 201 x 800\n",
    "        self.pool1 = nn.MaxPool2d(2, 2)  # Output: 16 x 100 x 400\n",
    "        self.conv2 = nn.Conv2d(16, 32, kernel_size=3, stride=1, padding=1)  # Output: 32 x 100 x 400\n",
    "        self.pool2 = nn.MaxPool2d(2, 2)  # Output: 32 x 50 x 200\n",
    "        self.conv3 = nn.Conv2d(32, 64, kernel_size=3, stride=1, padding=1)  # Output: 64 x 50 x 200\n",
    "        self.pool3 = nn.MaxPool2d(2, 2)  # Output: 64 x 25 x 100\n",
    "        self.conv4 = nn.Conv2d(64, 128, kernel_size=3, stride=1, padding=1)  # Output: 128 x 25 x 100\n",
    "        self.pool4 = nn.MaxPool2d(2, 2)  # Output: 128 x 12 x 50\n",
    "        self.conv5 = nn.Conv2d(128, 256, kernel_size=3, stride=1, padding=1)  # Output: 256 x 12 x 50\n",
    "        self.pool5 = nn.MaxPool2d(2, 2)  # Output: 256 x 6 x 25\n",
    "\n",
    "        # Fully connected layer to get to the bottleneck\n",
    "        self.fc = nn.Linear(256 * 6 * 25, 512)\n",
    "\n",
    "    def forward(self, x):\n",
    "        x = self.pool1(torch.relu(self.conv1(x)))\n",
    "        x = self.pool2(torch.relu(self.conv2(x)))\n",
    "        x = self.pool3(torch.relu(self.conv3(x)))\n",
    "        x = self.pool4(torch.relu(self.conv4(x)))\n",
    "        x = self.pool5(torch.relu(self.conv5(x)))\n",
    "\n",
    "        # Flatten and pass through the fully connected layer\n",
    "        x = x.view(x.size(0), -1)  # Flatten the tensor\n",
    "        x = self.fc(x)\n",
    "        return x\n"
   ]
  },
  {
   "cell_type": "code",
   "execution_count": 9,
   "metadata": {},
   "outputs": [
    {
     "name": "stdout",
     "output_type": "stream",
     "text": [
      "Success\n"
     ]
    }
   ],
   "source": [
    "def test_Encoder_shapes():\n",
    "    encoder = Encoder()\n",
    "\n",
    "    # Create a random batch of input data with the shape (batch_size, channels, height, width)\n",
    "    # Assuming the input spectrograms are single-channel (grayscale)\n",
    "    x = torch.randn(32, 1, 201, 800)  # Batch size of 32\n",
    "    y = encoder(x)\n",
    "\n",
    "    # The expected output shape is (batch_size, bottleneck_size)\n",
    "    expected_shape = torch.Size([32, 512])\n",
    "    assert y.shape == expected_shape, f\"Bad y.shape: {y.shape}\"\n",
    "    print('Success')\n",
    "\n",
    "test_Encoder_shapes()\n"
   ]
  },
  {
   "cell_type": "code",
   "execution_count": 10,
   "metadata": {},
   "outputs": [],
   "source": [
    "class Decoder(nn.Module):\n",
    "    def __init__(self):\n",
    "        super(Decoder, self).__init__()\n",
    "        # Fully connected layer to expand from the bottleneck\n",
    "        self.fc = nn.Linear(512, 256 * 6 * 25)\n",
    "\n",
    "        # Transposed convolution layers and upsampling\n",
    "        self.conv_transpose1 = nn.ConvTranspose2d(256, 128, kernel_size=3, stride=1, padding=1)\n",
    "        self.upsample1 = nn.Upsample(scale_factor=2, mode='nearest')  # Output: 128 x 12 x 50\n",
    "        self.conv_transpose2 = nn.ConvTranspose2d(128, 64, kernel_size=3, stride=1, padding=1)\n",
    "        self.upsample2 = nn.Upsample(scale_factor=2, mode='nearest')  # Output: 64 x 24 x 100\n",
    "        self.conv_transpose3 = nn.ConvTranspose2d(64, 32, kernel_size=3, stride=1, padding=1)\n",
    "        self.upsample3 = nn.Upsample(scale_factor=2, mode='nearest')  # Output: 32 x 48 x 200\n",
    "        self.conv_transpose4 = nn.ConvTranspose2d(32, 16, kernel_size=3, stride=1, padding=1)\n",
    "        self.upsample4 = nn.Upsample(scale_factor=2, mode='nearest')  # Output: 16 x 96 x 400\n",
    "        self.conv_transpose5 = nn.ConvTranspose2d(16, 1, kernel_size=3, stride=1, padding=1)\n",
    "        self.upsample5 = nn.Upsample(size=(201, 800), mode='nearest')  # Output: 1 x 201 x 800\n",
    "\n",
    "    def forward(self, x):\n",
    "        x = self.fc(x)\n",
    "        x = x.view(-1, 256, 6, 25)  # Reshape to match the output shape of the encoder's last pooling layer\n",
    "\n",
    "        x = self.upsample1(torch.relu(self.conv_transpose1(x)))\n",
    "        x = self.upsample2(torch.relu(self.conv_transpose2(x)))\n",
    "        x = self.upsample3(torch.relu(self.conv_transpose3(x)))\n",
    "        x = self.upsample4(torch.relu(self.conv_transpose4(x)))\n",
    "        x = self.upsample5(torch.relu(self.conv_transpose5(x)))\n",
    "\n",
    "        return x\n"
   ]
  },
  {
   "cell_type": "code",
   "execution_count": 11,
   "metadata": {},
   "outputs": [
    {
     "name": "stdout",
     "output_type": "stream",
     "text": [
      "Success\n"
     ]
    }
   ],
   "source": [
    "def test_Decoder_shapes():\n",
    "    decoder = Decoder()\n",
    "\n",
    "    # Create a random batch of input data with the shape (batch_size, bottleneck_size)\n",
    "    z = torch.randn(3, 512)  # Batch size of 3\n",
    "    y = decoder(z)\n",
    "\n",
    "    # The expected output shape is (batch_size, channels, height, width)\n",
    "    expected_shape = torch.Size([3, 1, 201, 800])\n",
    "    assert y.shape == expected_shape, \"Bad shape of y: y.shape={}\".format(y.shape)\n",
    "    print('Success')\n",
    "\n",
    "test_Decoder_shapes()\n"
   ]
  },
  {
   "cell_type": "code",
   "execution_count": 12,
   "metadata": {},
   "outputs": [
    {
     "name": "stdout",
     "output_type": "stream",
     "text": [
      "Number of parameters in the encoder: 20053632\n",
      "Number of parameters in the decoder: 20091265\n"
     ]
    }
   ],
   "source": [
    "encoder = Encoder()\n",
    "encoder.to(device)\n",
    "\n",
    "decoder = Decoder()\n",
    "decoder.to(device)\n",
    "\n",
    "num_encoder_parameters = sum(p.numel() for p in encoder.parameters() if p.requires_grad)\n",
    "print(f'Number of parameters in the encoder: {num_encoder_parameters}')\n",
    "\n",
    "num_decoder_parameters = sum(p.numel() for p in decoder.parameters() if p.requires_grad)\n",
    "print(f'Number of parameters in the decoder: {num_decoder_parameters}')\n"
   ]
  },
  {
   "cell_type": "code",
   "execution_count": 16,
   "metadata": {},
   "outputs": [
    {
     "name": "stdout",
     "output_type": "stream",
     "text": [
      "Epoch 1, Train Loss: 4.51, Test Loss: 3.85\n",
      "Epoch 2, Train Loss: 4.51, Test Loss: 3.84\n",
      "Epoch 3, Train Loss: 4.51, Test Loss: 3.85\n",
      "Epoch 4, Train Loss: 4.51, Test Loss: 3.85\n",
      "Epoch 5, Train Loss: 4.51, Test Loss: 3.86\n",
      "Epoch 6, Train Loss: 4.51, Test Loss: 3.87\n",
      "Epoch 7, Train Loss: 4.51, Test Loss: 3.85\n",
      "Epoch 8, Train Loss: 4.51, Test Loss: 3.84\n",
      "Epoch 9, Train Loss: 4.51, Test Loss: 3.84\n",
      "Epoch 10, Train Loss: 4.51, Test Loss: 3.85\n",
      "Epoch 11, Train Loss: 4.51, Test Loss: 3.85\n",
      "Epoch 12, Train Loss: 4.51, Test Loss: 3.84\n",
      "Epoch 13, Train Loss: 4.51, Test Loss: 3.85\n",
      "Epoch 14, Train Loss: 4.51, Test Loss: 3.87\n",
      "Epoch 15, Train Loss: 4.51, Test Loss: 3.84\n",
      "Epoch 16, Train Loss: 4.51, Test Loss: 3.87\n",
      "Epoch 17, Train Loss: 4.51, Test Loss: 3.83\n",
      "Epoch 18, Train Loss: 4.51, Test Loss: 3.84\n",
      "Epoch 19, Train Loss: 4.51, Test Loss: 3.84\n",
      "Epoch 20, Train Loss: 4.51, Test Loss: 3.84\n",
      "Epoch 21, Train Loss: 4.51, Test Loss: 3.84\n",
      "Epoch 22, Train Loss: 4.51, Test Loss: 3.84\n",
      "Epoch 23, Train Loss: 4.51, Test Loss: 3.84\n",
      "Epoch 24, Train Loss: 4.51, Test Loss: 3.84\n",
      "Epoch 25, Train Loss: 4.51, Test Loss: 3.84\n",
      "Epoch 26, Train Loss: 4.51, Test Loss: 3.84\n",
      "Epoch 27, Train Loss: 4.51, Test Loss: 3.84\n",
      "Epoch 28, Train Loss: 4.51, Test Loss: 3.84\n",
      "Epoch 29, Train Loss: 4.51, Test Loss: 3.84\n",
      "Epoch 30, Train Loss: 4.51, Test Loss: 3.85\n",
      "Epoch 31, Train Loss: 4.51, Test Loss: 3.83\n",
      "Epoch 32, Train Loss: 4.51, Test Loss: 3.85\n",
      "Epoch 33, Train Loss: 4.51, Test Loss: 3.86\n",
      "Epoch 34, Train Loss: 4.51, Test Loss: 3.84\n"
     ]
    },
    {
     "ename": "KeyboardInterrupt",
     "evalue": "",
     "output_type": "error",
     "traceback": [
      "\u001b[0;31m---------------------------------------------------------------------------\u001b[0m",
      "\u001b[0;31mKeyboardInterrupt\u001b[0m                         Traceback (most recent call last)",
      "\u001b[1;32m/Users/vimetoivonen/code/school/speech_recognition/project/autoencoder.ipynb Cell 10\u001b[0m line \u001b[0;36m2\n\u001b[1;32m     <a href='vscode-notebook-cell:/Users/vimetoivonen/code/school/speech_recognition/project/autoencoder.ipynb#X24sZmlsZQ%3D%3D?line=20'>21</a>\u001b[0m       loss\u001b[39m.\u001b[39mbackward()\n\u001b[1;32m     <a href='vscode-notebook-cell:/Users/vimetoivonen/code/school/speech_recognition/project/autoencoder.ipynb#X24sZmlsZQ%3D%3D?line=21'>22</a>\u001b[0m       optimizer\u001b[39m.\u001b[39mstep()\n\u001b[0;32m---> <a href='vscode-notebook-cell:/Users/vimetoivonen/code/school/speech_recognition/project/autoencoder.ipynb#X24sZmlsZQ%3D%3D?line=23'>24</a>\u001b[0m       train_loss \u001b[39m+\u001b[39m\u001b[39m=\u001b[39m loss\u001b[39m.\u001b[39;49mitem()\n\u001b[1;32m     <a href='vscode-notebook-cell:/Users/vimetoivonen/code/school/speech_recognition/project/autoencoder.ipynb#X24sZmlsZQ%3D%3D?line=25'>26</a>\u001b[0m train_loss \u001b[39m/\u001b[39m\u001b[39m=\u001b[39m \u001b[39mlen\u001b[39m(train_data_loader)\n\u001b[1;32m     <a href='vscode-notebook-cell:/Users/vimetoivonen/code/school/speech_recognition/project/autoencoder.ipynb#X24sZmlsZQ%3D%3D?line=26'>27</a>\u001b[0m train_losses\u001b[39m.\u001b[39mappend(train_loss)\n",
      "\u001b[0;31mKeyboardInterrupt\u001b[0m: "
     ]
    }
   ],
   "source": [
    "learning_rate = 0.001\n",
    "epochs = 50\n",
    "\n",
    "optimizer = torch.optim.Adam(list(encoder.parameters()) + list(decoder.parameters()), lr=learning_rate)\n",
    "criterion = nn.MSELoss()\n",
    "\n",
    "train_losses = []\n",
    "test_losses = []\n",
    "\n",
    "for epoch in range(epochs):\n",
    "    train_loss = 0\n",
    "    for batch_idx, data in enumerate(train_data_loader):\n",
    "          data = data.to(device)\n",
    "          optimizer.zero_grad()\n",
    "\n",
    "          z = encoder(data)\n",
    "          output = decoder(z)\n",
    "\n",
    "          loss = criterion(output, data)\n",
    "\n",
    "          loss.backward()\n",
    "          optimizer.step()\n",
    "\n",
    "          train_loss += loss.item()\n",
    "\n",
    "    train_loss /= len(train_data_loader)\n",
    "    train_losses.append(train_loss)\n",
    "\n",
    "    test_loss = 0\n",
    "    with torch.no_grad():\n",
    "        for batch_idx, data in enumerate(test_data_loader):\n",
    "            data = data.to(device)\n",
    "\n",
    "            z = encoder(data)\n",
    "            output = decoder(z)\n",
    "\n",
    "            loss = criterion(output, data)\n",
    "            test_loss += loss.item()\n",
    "\n",
    "    test_loss /= len(test_data_loader)\n",
    "    test_losses.append(test_loss)\n",
    "\n",
    "    print(f'Epoch {epoch + 1}, Train Loss: {train_loss:.2f}, Test Loss: {test_loss:.2f}')\n"
   ]
  },
  {
   "cell_type": "code",
   "execution_count": null,
   "metadata": {},
   "outputs": [],
   "source": []
  }
 ],
 "metadata": {
  "kernelspec": {
   "display_name": "venv",
   "language": "python",
   "name": "python3"
  },
  "language_info": {
   "codemirror_mode": {
    "name": "ipython",
    "version": 3
   },
   "file_extension": ".py",
   "mimetype": "text/x-python",
   "name": "python",
   "nbconvert_exporter": "python",
   "pygments_lexer": "ipython3",
   "version": "3.11.5"
  }
 },
 "nbformat": 4,
 "nbformat_minor": 2
}
