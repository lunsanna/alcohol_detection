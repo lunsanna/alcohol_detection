{
 "cells": [
  {
   "cell_type": "code",
   "execution_count": 11,
   "metadata": {},
   "outputs": [],
   "source": [
    "import torch\n",
    "from torch.utils.data import Dataset, DataLoader\n",
    "import torch.nn as nn\n",
    "import torch.optim as optim\n",
    "from torch.optim.lr_scheduler import ExponentialLR\n",
    "import pandas as pd\n",
    "import numpy as np\n",
    "import matplotlib.pyplot as plt\n",
    "import os\n"
   ]
  },
  {
   "cell_type": "code",
   "execution_count": 12,
   "metadata": {},
   "outputs": [],
   "source": [
    "device = torch.device('mps')\n"
   ]
  },
  {
   "cell_type": "code",
   "execution_count": 13,
   "metadata": {},
   "outputs": [],
   "source": [
    "class SpectrogramDataset(Dataset):\n",
    "    def __init__(self, csv_file, target_length=10, sample_rate=80):\n",
    "        \"\"\"\n",
    "        Args:\n",
    "            csv_file (string): Path to the csv file with annotations and file paths.\n",
    "            target_length (int): Desired length of the spectrograms in seconds.\n",
    "            sample_rate (int): Sample rate of the spectrograms.\n",
    "        \"\"\"\n",
    "        self.annotations = pd.read_csv(csv_file)\n",
    "        self.target_length = target_length\n",
    "        self.sample_rate = sample_rate\n",
    "\n",
    "    def __len__(self):\n",
    "        return len(self.annotations)\n",
    "\n",
    "    def __getitem__(self, idx):\n",
    "        spectrogram_path = self.annotations.iloc[idx]['spectrogram_filepath']\n",
    "        spectrogram = np.load(f\"../{spectrogram_path}\")\n",
    "\n",
    "        # Calculate the number of samples for target length\n",
    "        num_samples = self.target_length * self.sample_rate\n",
    "\n",
    "        # Pad or cut the spectrogram\n",
    "        if spectrogram.shape[2] > num_samples:\n",
    "            # Cut the spectrogram\n",
    "            spectrogram = spectrogram[:, :, :num_samples]\n",
    "        elif spectrogram.shape[2] < num_samples:\n",
    "            # Pad the spectrogram with zeros\n",
    "            padding_size = num_samples - spectrogram.shape[2]\n",
    "            spectrogram = np.pad(spectrogram, ((0, 0), (0, 0), (0, padding_size)), mode='constant')\n",
    "\n",
    "        spectrogram_tensor = torch.from_numpy(spectrogram).type(torch.float32)\n",
    "        return spectrogram_path, spectrogram_tensor\n"
   ]
  },
  {
   "cell_type": "code",
   "execution_count": 16,
   "metadata": {},
   "outputs": [
    {
     "name": "stdout",
     "output_type": "stream",
     "text": [
      "12\n",
      "4\n",
      "torch.Size([1024, 1, 201, 800])\n"
     ]
    }
   ],
   "source": [
    "def create_data_loader(csv_file, batch_size, target_length=10, sample_rate=80):\n",
    "    dataset = SpectrogramDataset(csv_file=csv_file, target_length=target_length, sample_rate=sample_rate)\n",
    "    return DataLoader(dataset, batch_size=batch_size, shuffle=True)\n",
    "\n",
    "# Example usage\n",
    "train_data_loader = create_data_loader('../train.csv', batch_size=1024)\n",
    "test_data_loader = create_data_loader('../test.csv', batch_size=1024)\n",
    "\n",
    "print(len(train_data_loader))\n",
    "print(len(test_data_loader))\n",
    "\n",
    "print(next(iter(train_data_loader))[1].shape)\n"
   ]
  },
  {
   "cell_type": "code",
   "execution_count": 18,
   "metadata": {},
   "outputs": [],
   "source": [
    "class Encoder(nn.Module):\n",
    "    def __init__(self):\n",
    "        super(Encoder, self).__init__()\n",
    "        # Reducing to two convolutional layers with stride 2\n",
    "        self.conv1 = nn.Conv2d(1, 16, kernel_size=3, stride=2, padding=1)  # Output: 16 x 101 x 400\n",
    "        self.conv2 = nn.Conv2d(16, 32, kernel_size=3, stride=2, padding=1)  # Output: 32 x 51 x 200\n",
    "\n",
    "        # Adjusted fully connected layer\n",
    "        self.fc = nn.Linear(32 * 51 * 200, 128)  # Adjust the bottleneck size\n",
    "\n",
    "    def forward(self, x):\n",
    "        x = torch.relu(self.conv1(x))\n",
    "        x = torch.relu(self.conv2(x))\n",
    "\n",
    "        # Flatten and pass through the fully connected layer\n",
    "        x = x.view(x.size(0), -1)  # Flatten the tensor\n",
    "        x = self.fc(x)\n",
    "        return x\n"
   ]
  },
  {
   "cell_type": "code",
   "execution_count": 19,
   "metadata": {},
   "outputs": [
    {
     "name": "stdout",
     "output_type": "stream",
     "text": [
      "Success\n"
     ]
    }
   ],
   "source": [
    "def test_Encoder_shapes():\n",
    "    encoder = Encoder()\n",
    "\n",
    "    # Create a random batch of input data with the shape (batch_size, channels, height, width)\n",
    "    # Assuming the input spectrograms are single-channel (grayscale)\n",
    "    x = torch.randn(32, 1, 201, 800)  # Batch size of 32\n",
    "    y = encoder(x)\n",
    "\n",
    "    # The expected output shape is (batch_size, bottleneck_size)\n",
    "    expected_shape = torch.Size([32, 128])\n",
    "    assert y.shape == expected_shape, f\"Bad y.shape: {y.shape}\"\n",
    "    print('Success')\n",
    "\n",
    "test_Encoder_shapes()\n"
   ]
  },
  {
   "cell_type": "code",
   "execution_count": 20,
   "metadata": {},
   "outputs": [],
   "source": [
    "class Decoder(nn.Module):\n",
    "    def __init__(self):\n",
    "        super(Decoder, self).__init__()\n",
    "        # Fully connected layer\n",
    "        self.fc = nn.Linear(128, 32 * 51 * 200)\n",
    "\n",
    "        # Adjusting transposed convolution layers\n",
    "        # Calculate the output padding required for matching the original dimensions\n",
    "        self.conv_transpose1 = nn.ConvTranspose2d(32, 16, kernel_size=3, stride=2, padding=1, output_padding=1)\n",
    "        # Second layer needs custom output padding to match the exact output size\n",
    "        self.conv_transpose2 = nn.ConvTranspose2d(16, 1, kernel_size=3, stride=2, padding=0, output_padding=0)\n",
    "\n",
    "    def forward(self, x):\n",
    "        x = self.fc(x)\n",
    "        x = x.view(-1, 32, 51, 200)\n",
    "\n",
    "        x = torch.relu(self.conv_transpose1(x))\n",
    "        x = torch.relu(self.conv_transpose2(x))\n",
    "\n",
    "        # TODO: Remove the hard fix\n",
    "        x = x[:, :, :201, :800]\n",
    "\n",
    "        return x\n"
   ]
  },
  {
   "cell_type": "code",
   "execution_count": 21,
   "metadata": {},
   "outputs": [
    {
     "name": "stdout",
     "output_type": "stream",
     "text": [
      "Success\n"
     ]
    }
   ],
   "source": [
    "def test_Decoder_shapes():\n",
    "    decoder = Decoder()\n",
    "\n",
    "    # Create a random batch of input data with the shape (batch_size, bottleneck_size)\n",
    "    z = torch.randn(3, 128)  # Batch size of 3\n",
    "    y = decoder(z)\n",
    "\n",
    "    # The expected output shape is (batch_size, channels, height, width)\n",
    "    expected_shape = torch.Size([3, 1, 201, 800])\n",
    "    assert y.shape == expected_shape, \"Bad shape of y: y.shape={}\".format(y.shape)\n",
    "    print('Success')\n",
    "\n",
    "test_Decoder_shapes()\n"
   ]
  },
  {
   "cell_type": "code",
   "execution_count": 22,
   "metadata": {},
   "outputs": [
    {
     "name": "stdout",
     "output_type": "stream",
     "text": [
      "Number of parameters in the encoder: 41784128\n",
      "Number of parameters in the decoder: 42110369\n"
     ]
    }
   ],
   "source": [
    "encoder = Encoder()\n",
    "encoder.to(device)\n",
    "\n",
    "decoder = Decoder()\n",
    "decoder.to(device)\n",
    "\n",
    "num_encoder_parameters = sum(p.numel() for p in encoder.parameters() if p.requires_grad)\n",
    "print(f'Number of parameters in the encoder: {num_encoder_parameters}')\n",
    "\n",
    "num_decoder_parameters = sum(p.numel() for p in decoder.parameters() if p.requires_grad)\n",
    "print(f'Number of parameters in the decoder: {num_decoder_parameters}')\n"
   ]
  },
  {
   "cell_type": "code",
   "execution_count": 23,
   "metadata": {},
   "outputs": [
    {
     "name": "stdout",
     "output_type": "stream",
     "text": [
      "Epoch 1, Train Loss: 1.46, Test Loss: 1.21\n"
     ]
    },
    {
     "ename": "KeyboardInterrupt",
     "evalue": "",
     "output_type": "error",
     "traceback": [
      "\u001b[0;31m---------------------------------------------------------------------------\u001b[0m",
      "\u001b[0;31mKeyboardInterrupt\u001b[0m                         Traceback (most recent call last)",
      "\u001b[1;32m/Users/vimetoivonen/code/school/speech_recognition/project/CNN/autoencoder.ipynb Cell 10\u001b[0m line \u001b[0;36m1\n\u001b[1;32m     <a href='vscode-notebook-cell:/Users/vimetoivonen/code/school/speech_recognition/project/CNN/autoencoder.ipynb#X12sZmlsZQ%3D%3D?line=10'>11</a>\u001b[0m \u001b[39mfor\u001b[39;00m epoch \u001b[39min\u001b[39;00m \u001b[39mrange\u001b[39m(epochs):\n\u001b[1;32m     <a href='vscode-notebook-cell:/Users/vimetoivonen/code/school/speech_recognition/project/CNN/autoencoder.ipynb#X12sZmlsZQ%3D%3D?line=11'>12</a>\u001b[0m     train_loss \u001b[39m=\u001b[39m \u001b[39m0\u001b[39m\n\u001b[0;32m---> <a href='vscode-notebook-cell:/Users/vimetoivonen/code/school/speech_recognition/project/CNN/autoencoder.ipynb#X12sZmlsZQ%3D%3D?line=12'>13</a>\u001b[0m     \u001b[39mfor\u001b[39;49;00m batch_idx, (_, data) \u001b[39min\u001b[39;49;00m \u001b[39menumerate\u001b[39;49m(train_data_loader):\n\u001b[1;32m     <a href='vscode-notebook-cell:/Users/vimetoivonen/code/school/speech_recognition/project/CNN/autoencoder.ipynb#X12sZmlsZQ%3D%3D?line=13'>14</a>\u001b[0m           data \u001b[39m=\u001b[39;49m data\u001b[39m.\u001b[39;49mto(device)\n\u001b[1;32m     <a href='vscode-notebook-cell:/Users/vimetoivonen/code/school/speech_recognition/project/CNN/autoencoder.ipynb#X12sZmlsZQ%3D%3D?line=14'>15</a>\u001b[0m           optimizer\u001b[39m.\u001b[39;49mzero_grad()\n",
      "File \u001b[0;32m~/Documents/school/venv/lib/python3.11/site-packages/torch/utils/data/dataloader.py:630\u001b[0m, in \u001b[0;36m_BaseDataLoaderIter.__next__\u001b[0;34m(self)\u001b[0m\n\u001b[1;32m    627\u001b[0m \u001b[39mif\u001b[39;00m \u001b[39mself\u001b[39m\u001b[39m.\u001b[39m_sampler_iter \u001b[39mis\u001b[39;00m \u001b[39mNone\u001b[39;00m:\n\u001b[1;32m    628\u001b[0m     \u001b[39m# TODO(https://github.com/pytorch/pytorch/issues/76750)\u001b[39;00m\n\u001b[1;32m    629\u001b[0m     \u001b[39mself\u001b[39m\u001b[39m.\u001b[39m_reset()  \u001b[39m# type: ignore[call-arg]\u001b[39;00m\n\u001b[0;32m--> 630\u001b[0m data \u001b[39m=\u001b[39m \u001b[39mself\u001b[39;49m\u001b[39m.\u001b[39;49m_next_data()\n\u001b[1;32m    631\u001b[0m \u001b[39mself\u001b[39m\u001b[39m.\u001b[39m_num_yielded \u001b[39m+\u001b[39m\u001b[39m=\u001b[39m \u001b[39m1\u001b[39m\n\u001b[1;32m    632\u001b[0m \u001b[39mif\u001b[39;00m \u001b[39mself\u001b[39m\u001b[39m.\u001b[39m_dataset_kind \u001b[39m==\u001b[39m _DatasetKind\u001b[39m.\u001b[39mIterable \u001b[39mand\u001b[39;00m \\\n\u001b[1;32m    633\u001b[0m         \u001b[39mself\u001b[39m\u001b[39m.\u001b[39m_IterableDataset_len_called \u001b[39mis\u001b[39;00m \u001b[39mnot\u001b[39;00m \u001b[39mNone\u001b[39;00m \u001b[39mand\u001b[39;00m \\\n\u001b[1;32m    634\u001b[0m         \u001b[39mself\u001b[39m\u001b[39m.\u001b[39m_num_yielded \u001b[39m>\u001b[39m \u001b[39mself\u001b[39m\u001b[39m.\u001b[39m_IterableDataset_len_called:\n",
      "File \u001b[0;32m~/Documents/school/venv/lib/python3.11/site-packages/torch/utils/data/dataloader.py:674\u001b[0m, in \u001b[0;36m_SingleProcessDataLoaderIter._next_data\u001b[0;34m(self)\u001b[0m\n\u001b[1;32m    672\u001b[0m \u001b[39mdef\u001b[39;00m \u001b[39m_next_data\u001b[39m(\u001b[39mself\u001b[39m):\n\u001b[1;32m    673\u001b[0m     index \u001b[39m=\u001b[39m \u001b[39mself\u001b[39m\u001b[39m.\u001b[39m_next_index()  \u001b[39m# may raise StopIteration\u001b[39;00m\n\u001b[0;32m--> 674\u001b[0m     data \u001b[39m=\u001b[39m \u001b[39mself\u001b[39;49m\u001b[39m.\u001b[39;49m_dataset_fetcher\u001b[39m.\u001b[39;49mfetch(index)  \u001b[39m# may raise StopIteration\u001b[39;00m\n\u001b[1;32m    675\u001b[0m     \u001b[39mif\u001b[39;00m \u001b[39mself\u001b[39m\u001b[39m.\u001b[39m_pin_memory:\n\u001b[1;32m    676\u001b[0m         data \u001b[39m=\u001b[39m _utils\u001b[39m.\u001b[39mpin_memory\u001b[39m.\u001b[39mpin_memory(data, \u001b[39mself\u001b[39m\u001b[39m.\u001b[39m_pin_memory_device)\n",
      "File \u001b[0;32m~/Documents/school/venv/lib/python3.11/site-packages/torch/utils/data/_utils/fetch.py:51\u001b[0m, in \u001b[0;36m_MapDatasetFetcher.fetch\u001b[0;34m(self, possibly_batched_index)\u001b[0m\n\u001b[1;32m     49\u001b[0m         data \u001b[39m=\u001b[39m \u001b[39mself\u001b[39m\u001b[39m.\u001b[39mdataset\u001b[39m.\u001b[39m__getitems__(possibly_batched_index)\n\u001b[1;32m     50\u001b[0m     \u001b[39melse\u001b[39;00m:\n\u001b[0;32m---> 51\u001b[0m         data \u001b[39m=\u001b[39m [\u001b[39mself\u001b[39;49m\u001b[39m.\u001b[39;49mdataset[idx] \u001b[39mfor\u001b[39;49;00m idx \u001b[39min\u001b[39;49;00m possibly_batched_index]\n\u001b[1;32m     52\u001b[0m \u001b[39melse\u001b[39;00m:\n\u001b[1;32m     53\u001b[0m     data \u001b[39m=\u001b[39m \u001b[39mself\u001b[39m\u001b[39m.\u001b[39mdataset[possibly_batched_index]\n",
      "File \u001b[0;32m~/Documents/school/venv/lib/python3.11/site-packages/torch/utils/data/_utils/fetch.py:51\u001b[0m, in \u001b[0;36m<listcomp>\u001b[0;34m(.0)\u001b[0m\n\u001b[1;32m     49\u001b[0m         data \u001b[39m=\u001b[39m \u001b[39mself\u001b[39m\u001b[39m.\u001b[39mdataset\u001b[39m.\u001b[39m__getitems__(possibly_batched_index)\n\u001b[1;32m     50\u001b[0m     \u001b[39melse\u001b[39;00m:\n\u001b[0;32m---> 51\u001b[0m         data \u001b[39m=\u001b[39m [\u001b[39mself\u001b[39;49m\u001b[39m.\u001b[39;49mdataset[idx] \u001b[39mfor\u001b[39;00m idx \u001b[39min\u001b[39;00m possibly_batched_index]\n\u001b[1;32m     52\u001b[0m \u001b[39melse\u001b[39;00m:\n\u001b[1;32m     53\u001b[0m     data \u001b[39m=\u001b[39m \u001b[39mself\u001b[39m\u001b[39m.\u001b[39mdataset[possibly_batched_index]\n",
      "\u001b[1;32m/Users/vimetoivonen/code/school/speech_recognition/project/CNN/autoencoder.ipynb Cell 10\u001b[0m line \u001b[0;36m3\n\u001b[1;32m     <a href='vscode-notebook-cell:/Users/vimetoivonen/code/school/speech_recognition/project/CNN/autoencoder.ipynb#X12sZmlsZQ%3D%3D?line=26'>27</a>\u001b[0m \u001b[39melif\u001b[39;00m spectrogram\u001b[39m.\u001b[39mshape[\u001b[39m2\u001b[39m] \u001b[39m<\u001b[39m num_samples:\n\u001b[1;32m     <a href='vscode-notebook-cell:/Users/vimetoivonen/code/school/speech_recognition/project/CNN/autoencoder.ipynb#X12sZmlsZQ%3D%3D?line=27'>28</a>\u001b[0m     \u001b[39m# Pad the spectrogram with zeros\u001b[39;00m\n\u001b[1;32m     <a href='vscode-notebook-cell:/Users/vimetoivonen/code/school/speech_recognition/project/CNN/autoencoder.ipynb#X12sZmlsZQ%3D%3D?line=28'>29</a>\u001b[0m     padding_size \u001b[39m=\u001b[39m num_samples \u001b[39m-\u001b[39m spectrogram\u001b[39m.\u001b[39mshape[\u001b[39m2\u001b[39m]\n\u001b[0;32m---> <a href='vscode-notebook-cell:/Users/vimetoivonen/code/school/speech_recognition/project/CNN/autoencoder.ipynb#X12sZmlsZQ%3D%3D?line=29'>30</a>\u001b[0m     spectrogram \u001b[39m=\u001b[39m np\u001b[39m.\u001b[39;49mpad(spectrogram, ((\u001b[39m0\u001b[39;49m, \u001b[39m0\u001b[39;49m), (\u001b[39m0\u001b[39;49m, \u001b[39m0\u001b[39;49m), (\u001b[39m0\u001b[39;49m, padding_size)), mode\u001b[39m=\u001b[39;49m\u001b[39m'\u001b[39;49m\u001b[39mconstant\u001b[39;49m\u001b[39m'\u001b[39;49m)\n\u001b[1;32m     <a href='vscode-notebook-cell:/Users/vimetoivonen/code/school/speech_recognition/project/CNN/autoencoder.ipynb#X12sZmlsZQ%3D%3D?line=31'>32</a>\u001b[0m spectrogram_tensor \u001b[39m=\u001b[39m torch\u001b[39m.\u001b[39mfrom_numpy(spectrogram)\u001b[39m.\u001b[39mtype(torch\u001b[39m.\u001b[39mfloat32)\n\u001b[1;32m     <a href='vscode-notebook-cell:/Users/vimetoivonen/code/school/speech_recognition/project/CNN/autoencoder.ipynb#X12sZmlsZQ%3D%3D?line=32'>33</a>\u001b[0m \u001b[39mreturn\u001b[39;00m spectrogram_path, spectrogram_tensor\n",
      "File \u001b[0;32m~/Documents/school/venv/lib/python3.11/site-packages/numpy/lib/arraypad.py:808\u001b[0m, in \u001b[0;36mpad\u001b[0;34m(array, pad_width, mode, **kwargs)\u001b[0m\n\u001b[1;32m    806\u001b[0m     \u001b[39mfor\u001b[39;00m axis, width_pair, value_pair \u001b[39min\u001b[39;00m \u001b[39mzip\u001b[39m(axes, pad_width, values):\n\u001b[1;32m    807\u001b[0m         roi \u001b[39m=\u001b[39m _view_roi(padded, original_area_slice, axis)\n\u001b[0;32m--> 808\u001b[0m         _set_pad_area(roi, axis, width_pair, value_pair)\n\u001b[1;32m    810\u001b[0m \u001b[39melif\u001b[39;00m mode \u001b[39m==\u001b[39m \u001b[39m\"\u001b[39m\u001b[39mempty\u001b[39m\u001b[39m\"\u001b[39m:\n\u001b[1;32m    811\u001b[0m     \u001b[39mpass\u001b[39;00m  \u001b[39m# Do nothing as _pad_simple already returned the correct result\u001b[39;00m\n",
      "File \u001b[0;32m~/Documents/school/venv/lib/python3.11/site-packages/numpy/lib/arraypad.py:150\u001b[0m, in \u001b[0;36m_set_pad_area\u001b[0;34m(padded, axis, width_pair, value_pair)\u001b[0m\n\u001b[1;32m    146\u001b[0m left_slice \u001b[39m=\u001b[39m _slice_at_axis(\u001b[39mslice\u001b[39m(\u001b[39mNone\u001b[39;00m, width_pair[\u001b[39m0\u001b[39m]), axis)\n\u001b[1;32m    147\u001b[0m padded[left_slice] \u001b[39m=\u001b[39m value_pair[\u001b[39m0\u001b[39m]\n\u001b[1;32m    149\u001b[0m right_slice \u001b[39m=\u001b[39m _slice_at_axis(\n\u001b[0;32m--> 150\u001b[0m     \u001b[39mslice\u001b[39;49m(padded\u001b[39m.\u001b[39;49mshape[axis] \u001b[39m-\u001b[39;49m width_pair[\u001b[39m1\u001b[39;49m], \u001b[39mNone\u001b[39;49;00m), axis)\n\u001b[1;32m    151\u001b[0m padded[right_slice] \u001b[39m=\u001b[39m value_pair[\u001b[39m1\u001b[39m]\n",
      "\u001b[0;31mKeyboardInterrupt\u001b[0m: "
     ]
    }
   ],
   "source": [
    "learning_rate = 0.001\n",
    "epochs = 300\n",
    "\n",
    "optimizer = torch.optim.Adam(list(encoder.parameters()) + list(decoder.parameters()), lr=learning_rate)\n",
    "criterion = nn.MSELoss()\n",
    "scheduler = ExponentialLR(optimizer, gamma=0.95)\n",
    "\n",
    "train_losses = []\n",
    "test_losses = []\n",
    "\n",
    "for epoch in range(epochs):\n",
    "    train_loss = 0\n",
    "    for batch_idx, (_, data) in enumerate(train_data_loader):\n",
    "          data = data.to(device)\n",
    "          optimizer.zero_grad()\n",
    "\n",
    "          z = encoder(data)\n",
    "          output = decoder(z)\n",
    "\n",
    "          loss = criterion(output, data)\n",
    "\n",
    "          loss.backward()\n",
    "          optimizer.step()\n",
    "\n",
    "          train_loss += loss.item()\n",
    "\n",
    "    train_loss /= len(train_data_loader)\n",
    "    train_losses.append(train_loss)\n",
    "\n",
    "    test_loss = 0\n",
    "    with torch.no_grad():\n",
    "        for batch_idx, (_, data) in enumerate(test_data_loader):\n",
    "            data = data.to(device)\n",
    "\n",
    "            z = encoder(data)\n",
    "            output = decoder(z)\n",
    "\n",
    "            loss = criterion(output, data)\n",
    "            test_loss += loss.item()\n",
    "\n",
    "    test_loss /= len(test_data_loader)\n",
    "    test_losses.append(test_loss)\n",
    "\n",
    "    print(f'Epoch {epoch + 1}, Train Loss: {train_loss:.2f}, Test Loss: {test_loss:.2f}')\n",
    "\n",
    "    scheduler.step()\n"
   ]
  },
  {
   "cell_type": "code",
   "execution_count": 24,
   "metadata": {},
   "outputs": [],
   "source": [
    "# # save the encoder and decoder models\n",
    "# torch.save(encoder.state_dict(), 'encoder.pth')\n",
    "# torch.save(decoder.state_dict(), 'decoder.pth')\n"
   ]
  },
  {
   "cell_type": "code",
   "execution_count": 25,
   "metadata": {},
   "outputs": [
    {
     "data": {
      "text/plain": [
       "Decoder(\n",
       "  (fc): Linear(in_features=128, out_features=326400, bias=True)\n",
       "  (conv_transpose1): ConvTranspose2d(32, 16, kernel_size=(3, 3), stride=(2, 2), padding=(1, 1), output_padding=(1, 1))\n",
       "  (conv_transpose2): ConvTranspose2d(16, 1, kernel_size=(3, 3), stride=(2, 2))\n",
       ")"
      ]
     },
     "execution_count": 25,
     "metadata": {},
     "output_type": "execute_result"
    }
   ],
   "source": [
    "# load the encoder and decoder models from the saved files\n",
    "encoder = Encoder()\n",
    "encoder.load_state_dict(torch.load('encoder.pth'))\n",
    "encoder.to(device)\n",
    "\n",
    "decoder = Decoder()\n",
    "decoder.load_state_dict(torch.load('decoder.pth'))\n",
    "decoder.to(device)\n"
   ]
  },
  {
   "cell_type": "code",
   "execution_count": 26,
   "metadata": {},
   "outputs": [],
   "source": [
    "# create and save the bottleneck feature vectors for both train and test data, and update\n",
    "def save_bottleneck_features(data_loader, model, bottleneck_filepath, csv_file):\n",
    "    model.eval()\n",
    "    os.makedirs(bottleneck_filepath, exist_ok=True)\n",
    "\n",
    "    annotations = pd.read_csv(csv_file)\n",
    "    annotations['bottleneck_filepath'] = ''\n",
    "\n",
    "    for batch_idx, (filepaths, data) in enumerate(data_loader):\n",
    "        data = data.to(device)\n",
    "        with torch.no_grad():\n",
    "            bottleneck_features = model(data).cpu().numpy()\n",
    "\n",
    "        for i, filepath in enumerate(filepaths):\n",
    "            filename = os.path.basename(filepath)\n",
    "            bottleneck_filename = filename.replace('.npy', '_bottleneck.npy')\n",
    "            bottleneck_full_path = os.path.join(bottleneck_filepath, bottleneck_filename)\n",
    "\n",
    "            np.save(bottleneck_full_path, bottleneck_features[i])\n",
    "\n",
    "            annotations.loc[annotations['spectrogram_filepath'] == filepath, 'bottleneck_filepath'] = bottleneck_full_path\n",
    "\n",
    "    # Save the updated annotations DataFrame back to the CSV file\n",
    "    annotations.to_csv(csv_file, index=False)\n",
    "    print(\"Bottleneck features saved and CSV file updated.\")\n"
   ]
  },
  {
   "cell_type": "code",
   "execution_count": 28,
   "metadata": {},
   "outputs": [
    {
     "ename": "AttributeError",
     "evalue": "'tuple' object has no attribute 'to'",
     "output_type": "error",
     "traceback": [
      "\u001b[0;31m---------------------------------------------------------------------------\u001b[0m",
      "\u001b[0;31mAttributeError\u001b[0m                            Traceback (most recent call last)",
      "\u001b[1;32m/Users/vimetoivonen/code/school/speech_recognition/project/CNN/autoencoder.ipynb Cell 14\u001b[0m line \u001b[0;36m1\n\u001b[1;32m     <a href='vscode-notebook-cell:/Users/vimetoivonen/code/school/speech_recognition/project/CNN/autoencoder.ipynb#X16sZmlsZQ%3D%3D?line=10'>11</a>\u001b[0m test_csv_file \u001b[39m=\u001b[39m \u001b[39m'\u001b[39m\u001b[39m../test2.csv\u001b[39m\u001b[39m'\u001b[39m\n\u001b[1;32m     <a href='vscode-notebook-cell:/Users/vimetoivonen/code/school/speech_recognition/project/CNN/autoencoder.ipynb#X16sZmlsZQ%3D%3D?line=12'>13</a>\u001b[0m \u001b[39m# Save bottleneck features and update CSV for the training dataset\u001b[39;00m\n\u001b[0;32m---> <a href='vscode-notebook-cell:/Users/vimetoivonen/code/school/speech_recognition/project/CNN/autoencoder.ipynb#X16sZmlsZQ%3D%3D?line=13'>14</a>\u001b[0m save_bottleneck_features(train_data_loader, encoder\u001b[39m.\u001b[39;49mto(device), bottleneck_train_dir, train_csv_file)\n\u001b[1;32m     <a href='vscode-notebook-cell:/Users/vimetoivonen/code/school/speech_recognition/project/CNN/autoencoder.ipynb#X16sZmlsZQ%3D%3D?line=15'>16</a>\u001b[0m \u001b[39m# Save bottleneck features and update CSV for the testing dataset\u001b[39;00m\n\u001b[1;32m     <a href='vscode-notebook-cell:/Users/vimetoivonen/code/school/speech_recognition/project/CNN/autoencoder.ipynb#X16sZmlsZQ%3D%3D?line=16'>17</a>\u001b[0m save_bottleneck_features(test_data_loader, encoder\u001b[39m.\u001b[39mto(device), bottleneck_test_dir, test_csv_file)\n",
      "\u001b[1;32m/Users/vimetoivonen/code/school/speech_recognition/project/CNN/autoencoder.ipynb Cell 14\u001b[0m line \u001b[0;36m1\n\u001b[1;32m      <a href='vscode-notebook-cell:/Users/vimetoivonen/code/school/speech_recognition/project/CNN/autoencoder.ipynb#X16sZmlsZQ%3D%3D?line=6'>7</a>\u001b[0m annotations[\u001b[39m'\u001b[39m\u001b[39mbottleneck_filepath\u001b[39m\u001b[39m'\u001b[39m] \u001b[39m=\u001b[39m \u001b[39m'\u001b[39m\u001b[39m'\u001b[39m\n\u001b[1;32m      <a href='vscode-notebook-cell:/Users/vimetoivonen/code/school/speech_recognition/project/CNN/autoencoder.ipynb#X16sZmlsZQ%3D%3D?line=8'>9</a>\u001b[0m \u001b[39mfor\u001b[39;00m batch_idx, (data, filepaths) \u001b[39min\u001b[39;00m \u001b[39menumerate\u001b[39m(data_loader):\n\u001b[0;32m---> <a href='vscode-notebook-cell:/Users/vimetoivonen/code/school/speech_recognition/project/CNN/autoencoder.ipynb#X16sZmlsZQ%3D%3D?line=9'>10</a>\u001b[0m     data \u001b[39m=\u001b[39m data\u001b[39m.\u001b[39;49mto(device)\n\u001b[1;32m     <a href='vscode-notebook-cell:/Users/vimetoivonen/code/school/speech_recognition/project/CNN/autoencoder.ipynb#X16sZmlsZQ%3D%3D?line=10'>11</a>\u001b[0m     \u001b[39mwith\u001b[39;00m torch\u001b[39m.\u001b[39mno_grad():\n\u001b[1;32m     <a href='vscode-notebook-cell:/Users/vimetoivonen/code/school/speech_recognition/project/CNN/autoencoder.ipynb#X16sZmlsZQ%3D%3D?line=11'>12</a>\u001b[0m         bottleneck_features \u001b[39m=\u001b[39m model(data)\u001b[39m.\u001b[39mcpu()\u001b[39m.\u001b[39mnumpy()\n",
      "\u001b[0;31mAttributeError\u001b[0m: 'tuple' object has no attribute 'to'"
     ]
    }
   ],
   "source": [
    "test_df = pd.read_csv('../test.csv')\n",
    "train_df = pd.read_csv('../train.csv')\n",
    "\n",
    "# save copies of the original CSV files\n",
    "test_df.to_csv('../test2.csv', index=False)\n",
    "train_df.to_csv('../train2.csv', index=False)\n",
    "\n",
    "bottleneck_train_dir = 'train_bottleneck'\n",
    "bottleneck_test_dir = 'test_bottleneck'\n",
    "train_csv_file = '../train2.csv'\n",
    "test_csv_file = '../test2.csv'\n",
    "\n",
    "# Save bottleneck features and update CSV for the training dataset\n",
    "save_bottleneck_features(train_data_loader, encoder.to(device), bottleneck_train_dir, train_csv_file)\n",
    "\n",
    "# Save bottleneck features and update CSV for the testing dataset\n",
    "save_bottleneck_features(test_data_loader, encoder.to(device), bottleneck_test_dir, test_csv_file)\n"
   ]
  },
  {
   "cell_type": "code",
   "execution_count": null,
   "metadata": {},
   "outputs": [],
   "source": []
  }
 ],
 "metadata": {
  "kernelspec": {
   "display_name": "venv",
   "language": "python",
   "name": "python3"
  },
  "language_info": {
   "codemirror_mode": {
    "name": "ipython",
    "version": 3
   },
   "file_extension": ".py",
   "mimetype": "text/x-python",
   "name": "python",
   "nbconvert_exporter": "python",
   "pygments_lexer": "ipython3",
   "version": "3.11.5"
  }
 },
 "nbformat": 4,
 "nbformat_minor": 2
}
